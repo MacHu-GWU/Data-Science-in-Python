{
 "cells": [
  {
   "cell_type": "markdown",
   "metadata": {},
   "source": [
    "参考资料: 概率论与数理统计 浙大第四版, 8.6 (二)\n",
    "\n",
    "有一组观测样本. 我们觉得他服从某种类型的分布, 例如正态分布. 请问这个假设是否可靠?\n",
    "\n",
    "**解法**:\n",
    "\n",
    "与检验是否服从某个具体分布函数不同, 由于分布函数参数未知, 所以我们所有的 ``pi`` 都用估计值 ``pi'`` 代替. 统计量为:\n",
    "\n",
    "``Y = sigma1~k (fi ** 2 / (n * pi')) - n``\n",
    "\n",
    "我们首先用最大似然估计估计出F(X)的所有参数theta, 然后再用F(X)求得所有的 ``pi'``. 之后的解法跟之前相同."
   ]
  }
 ],
 "metadata": {
  "kernelspec": {
   "display_name": "Python 3",
   "language": "python",
   "name": "python3"
  },
  "language_info": {
   "codemirror_mode": {
    "name": "ipython",
    "version": 3
   },
   "file_extension": ".py",
   "mimetype": "text/x-python",
   "name": "python",
   "nbconvert_exporter": "python",
   "pygments_lexer": "ipython3",
   "version": "3.5.3"
  }
 },
 "nbformat": 4,
 "nbformat_minor": 2
}
