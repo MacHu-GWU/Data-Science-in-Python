{
 "cells": [
  {
   "cell_type": "code",
   "execution_count": 57,
   "metadata": {},
   "outputs": [
    {
     "name": "stdout",
     "output_type": "stream",
     "text": [
      "man actual N(171.00, 4.00), observed N(171.01, 4.02)\n",
      "woman actual N(160.00, 3.50), observed N(160.19, 3.38)\n",
      "observed N(165.60, 6.56)\n"
     ]
    }
   ],
   "source": [
    "import numpy as np\n",
    "import pandas as pd\n",
    "from scipy import stats\n",
    "\n",
    "n_man = 1000\n",
    "mean_man = 171\n",
    "std_man = 4\n",
    "\n",
    "n_woman = 1000\n",
    "mean_woman = 160\n",
    "std_woman = 3.5\n",
    "\n",
    "s_man = pd.Series([float(\"%.4f\" % i) for i in (np.random.randn(n_man) * std_man + mean_man)])\n",
    "mean_man_obs = s_man.mean()\n",
    "std_man_obs = s_man.std(ddof=0)\n",
    "\n",
    "s_woman = pd.Series([float(\"%.4f\" % i) for i in (np.random.randn(n_woman) * std_woman + mean_woman)])\n",
    "mean_woman_obs = s_woman.mean()\n",
    "std_woman_obs = s_woman.std(ddof=0)\n",
    "\n",
    "print(\"man actual N(%.2f, %.2f), observed N(%.2f, %.2f)\" % (\n",
    "    mean_man, std_man, mean_man_obs, std_man_obs))\n",
    "\n",
    "print(\"woman actual N(%.2f, %.2f), observed N(%.2f, %.2f)\" % (\n",
    "    mean_woman, std_woman, mean_woman_obs, std_woman_obs))\n",
    "\n",
    "s_all = pd.concat([s_man, s_woman])\n",
    "s_all.index  = range(len(s_all))\n",
    "mean_obs, std_obs = s_all.mean(), s_all.std(ddof=0)\n",
    "print(\"observed N(%.2f, %.2f)\" % (mean_obs, std_obs))"
   ]
  },
  {
   "cell_type": "code",
   "execution_count": null,
   "metadata": {},
   "outputs": [],
   "source": []
  }
 ],
 "metadata": {
  "kernelspec": {
   "display_name": "Python 3",
   "language": "python",
   "name": "python3"
  },
  "language_info": {
   "codemirror_mode": {
    "name": "ipython",
    "version": 3
   },
   "file_extension": ".py",
   "mimetype": "text/x-python",
   "name": "python",
   "nbconvert_exporter": "python",
   "pygments_lexer": "ipython3",
   "version": "3.5.3"
  }
 },
 "nbformat": 4,
 "nbformat_minor": 2
}
