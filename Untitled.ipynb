{
 "cells": [
  {
   "cell_type": "code",
   "execution_count": 100,
   "metadata": {},
   "outputs": [
    {
     "data": {
      "image/png": "[encoded data removed]",
      "text/plain": [
       "<Figure size 720x360 with 1 Axes>"
      ]
     },
     "metadata": {},
     "output_type": "display_data"
    }
   ],
   "source": [
    "import numpy as np\n",
    "import pandas as pd\n",
    "from scipy import stats\n",
    "from sklearn.cluster import KMeans\n",
    "import matplotlib.pyplot as plt\n",
    "\n",
    "mean_l = [0, 7, 12, 20]\n",
    "std_l =  [1.2, 1.4, 1.6, 1.8]\n",
    "k = len(mean_l)\n",
    "\n",
    "values = list()\n",
    "labels = list()\n",
    "for i in range(k):\n",
    "    n = np.random.randint(20, 30)\n",
    "    values.extend( np.random.randn(n) * std_l[i] + mean_l[i] )\n",
    "    labels.extend( [i,] * n)\n",
    "df = pd.DataFrame()\n",
    "df[\"values\"] = values\n",
    "df[\"labels\"] = labels\n",
    "\n",
    "def visualize_cluster(values, labels):\n",
    "    df_temp = pd.DataFrame()\n",
    "    df_temp[\"values\"] = values\n",
    "    df_temp[\"labels\"] = labels\n",
    "    fig, ax = plt.subplots(figsize=(10, 5))\n",
    "    colors = [\n",
    "        \"#ff0000\", # red\n",
    "        \"#ffff00\", # yellow\n",
    "        \"#40ff00\", # green\n",
    "        \"#00bfff\", # blue\n",
    "        \"#800000\", # brown\n",
    "        \"#bf00ff\", # purple\n",
    "    ]\n",
    "    for label in df[\"labels\"].unique():\n",
    "        x = df_temp[df_temp[\"labels\"] == label][\"values\"]\n",
    "        y = [1,] * len(x)\n",
    "        ax.scatter(x, y, color=colors[label], alpha=0.5)\n",
    "\n",
    "visualize_cluster(df[\"values\"], df[\"labels\"])"
   ]
  },
  {
   "cell_type": "code",
   "execution_count": 101,
   "metadata": {},
   "outputs": [
    {
     "data": {
      "image/png": "[encoded data removed]",
      "text/plain": [
       "<Figure size 720x360 with 1 Axes>"
      ]
     },
     "metadata": {},
     "output_type": "display_data"
    }
   ],
   "source": [
    "clf = KMeans(n_clusters=k).fit(df[[\"values\"]])\n",
    "df[\"predict\"] = clf.labels_\n",
    "\n",
    "# adjust label\n",
    "centers = list(clf.cluster_centers_)\n",
    "centers.sort()\n",
    "\n",
    "def find_nearest(v, choices):\n",
    "    ind = None\n",
    "    min_dist = 99999999\n",
    "    for i, v1 in enumerate(choices):\n",
    "        dist = abs(v - v1)\n",
    "        if dist < min_dist:\n",
    "            min_dist = dist\n",
    "            ind = i\n",
    "    return ind\n",
    "\n",
    "mapper = dict()\n",
    "for new_label, sub_df in df.groupby(\"predict\"):\n",
    "    real_label = find_nearest(sub_df[\"values\"].mean(), centers)\n",
    "    mapper[new_label] = real_label\n",
    "\n",
    "df[\"predict\"] = df[\"predict\"].map(lambda x: mapper[x])\n",
    "\n",
    "visualize_cluster(df[\"values\"], df[\"predict\"])"
   ]
  },
  {
   "cell_type": "code",
   "execution_count": 103,
   "metadata": {},
   "outputs": [
    {
     "data": {
      "text/plain": [
       "predict\n",
       "0    0.714180\n",
       "1    2.774022\n",
       "2    4.723238\n",
       "3    8.261002\n",
       "dtype: float64"
      ]
     },
     "execution_count": 103,
     "metadata": {},
     "output_type": "execute_result"
    }
   ],
   "source": [
    "df.groupby(\"predict\").apply(lambda x: x.values.std(ddof=0))\n",
    "# df.groupby(\"predict\").apply(lambda x: x.values.mean())\n",
    "\n",
    "# for _, sub_df in df.groupby(\"predict\"):\n",
    "#     print(sub_df)"
   ]
  }
 ],
 "metadata": {
  "kernelspec": {
   "display_name": "Python 3",
   "language": "python",
   "name": "python3"
  },
  "language_info": {
   "codemirror_mode": {
    "name": "ipython",
    "version": 3
   },
   "file_extension": ".py",
   "mimetype": "text/x-python",
   "name": "python",
   "nbconvert_exporter": "python",
   "pygments_lexer": "ipython3",
   "version": "3.5.3"
  }
 },
 "nbformat": 4,
 "nbformat_minor": 2
}
