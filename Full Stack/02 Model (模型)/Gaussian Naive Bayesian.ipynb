{
 "cells": [
  {
   "cell_type": "code",
   "execution_count": 48,
   "metadata": {},
   "outputs": [],
   "source": [
    "import numpy as np\n",
    "import pandas as pd\n",
    "from scipy.stats import norm\n",
    "import seaborn as sns\n",
    "import matplotlib.pyplot as plt\n",
    "\n",
    "from matplotlib import cm\n",
    "\n",
    "from sklearn.datasets import make_blobs\n",
    "from sklearn.naive_bayes import GaussianNB\n",
    "from sklearn.metrics import brier_score_loss\n",
    "from sklearn.calibration import CalibratedClassifierCV\n",
    "from sklearn.model_selection import train_test_split\n",
    "\n",
    "\n",
    "\n",
    "\n",
    "\n",
    "\n"
   ]
  },
  {
   "cell_type": "code",
   "execution_count": 42,
   "metadata": {},
   "outputs": [
    {
     "data": {
      "text/html": [
       "<div>\n",
       "<table border=\"1\" class=\"dataframe\">\n",
       "  <thead>\n",
       "    <tr style=\"text-align: right;\">\n",
       "      <th></th>\n",
       "      <th>x</th>\n",
       "      <th>y</th>\n",
       "      <th>label</th>\n",
       "    </tr>\n",
       "  </thead>\n",
       "  <tbody>\n",
       "    <tr>\n",
       "      <th>0</th>\n",
       "      <td>-2.324272</td>\n",
       "      <td>3.875737</td>\n",
       "      <td>2</td>\n",
       "    </tr>\n",
       "    <tr>\n",
       "      <th>1</th>\n",
       "      <td>-0.930295</td>\n",
       "      <td>2.900523</td>\n",
       "      <td>2</td>\n",
       "    </tr>\n",
       "    <tr>\n",
       "      <th>2</th>\n",
       "      <td>-7.599650</td>\n",
       "      <td>9.924618</td>\n",
       "      <td>0</td>\n",
       "    </tr>\n",
       "    <tr>\n",
       "      <th>3</th>\n",
       "      <td>-2.319516</td>\n",
       "      <td>1.782877</td>\n",
       "      <td>2</td>\n",
       "    </tr>\n",
       "    <tr>\n",
       "      <th>4</th>\n",
       "      <td>-7.587887</td>\n",
       "      <td>8.069039</td>\n",
       "      <td>0</td>\n",
       "    </tr>\n",
       "  </tbody>\n",
       "</table>\n",
       "</div>"
      ],
      "text/plain": [
       "          x         y  label\n",
       "0 -2.324272  3.875737      2\n",
       "1 -0.930295  2.900523      2\n",
       "2 -7.599650  9.924618      0\n",
       "3 -2.319516  1.782877      2\n",
       "4 -7.587887  8.069039      0"
      ]
     },
     "execution_count": 42,
     "metadata": {},
     "output_type": "execute_result"
    }
   ],
   "source": [
    "n_class = 3\n",
    "n_sample_per_class = 100\n",
    "\n",
    "X, y = make_blobs(\n",
    "    n_samples=n_class * n_sample_per_class,\n",
    "    n_features=2,\n",
    "    centers=n_class,\n",
    "    cluster_std=1,\n",
    ")\n",
    "two_blobs_data = pd.DataFrame(X, columns=list(\"xy\"))\n",
    "two_blobs_data[\"label\"] = y\n",
    "two_blobs_data.head(5)"
   ]
  },
  {
   "cell_type": "code",
   "execution_count": 43,
   "metadata": {},
   "outputs": [],
   "source": [
    "def scatter_plot(df):\n",
    "    \"\"\"\n",
    "    assumption:\n",
    "    \n",
    "    df.columns = [\"{x_label}\", \"{y_label}\", \"{label}\"]\n",
    "    \"\"\"\n",
    "    figure = plt.figure(figsize=(15, 10))\n",
    "    axis = figure.add_subplot(1, 1, 1)\n",
    "    \n",
    "    c_x, c_y, c_l = df.columns\n",
    "    \n",
    "    labels = df[c_l].unique()\n",
    "    labels.sort()\n",
    "    \n",
    "    for label in labels:\n",
    "        sub_df = df[df[c_l] == label]\n",
    "        line = axis.scatter(\n",
    "            sub_df[c_x], sub_df[c_y], label=str(label),\n",
    "        )\n",
    "\n",
    "    axis.set_xlabel(c_x)\n",
    "    axis.set_ylabel(c_y)\n",
    "    axis.legend()\n",
    "    axis.grid()\n",
    "    plt.show()"
   ]
  },
  {
   "cell_type": "code",
   "execution_count": 44,
   "metadata": {},
   "outputs": [
    {
     "data": {
      "image/png": "[encoded data removed]",
      "text/plain": [
       "<Figure size 1080x720 with 1 Axes>"
      ]
     },
     "metadata": {},
     "output_type": "display_data"
    }
   ],
   "source": [
    "scatter_plot(two_blobs_data)"
   ]
  },
  {
   "cell_type": "code",
   "execution_count": 51,
   "metadata": {},
   "outputs": [
    {
     "name": "stdout",
     "output_type": "stream",
     "text": [
      "0      -2.324272\n",
      "1      -0.930295\n",
      "2      -7.599650\n",
      "3      -2.319516\n",
      "4      -7.587887\n",
      "5      -1.734559\n",
      "6      -1.076442\n",
      "7      -5.767797\n",
      "8      -7.957887\n",
      "9       8.228734\n",
      "10     -2.419193\n",
      "11     11.627770\n",
      "12     -5.895368\n",
      "13     10.468570\n",
      "14     -1.643532\n",
      "15     10.837996\n",
      "16     11.357325\n",
      "17     -7.808430\n",
      "18     -7.581869\n",
      "19      9.619617\n",
      "20      9.964464\n",
      "21     -7.278798\n",
      "22     -7.100615\n",
      "23     -6.654094\n",
      "24     -0.510464\n",
      "25      9.645460\n",
      "26     -2.051591\n",
      "27     -1.488289\n",
      "28     11.221695\n",
      "29     -6.540486\n",
      "         ...    \n",
      "270    -0.808652\n",
      "271     9.492000\n",
      "272    -6.121633\n",
      "273    -3.684385\n",
      "274     8.983701\n",
      "275    -3.281932\n",
      "276    -2.414169\n",
      "277    -7.279975\n",
      "278    10.420054\n",
      "279    -6.920548\n",
      "280     7.919579\n",
      "281     9.166462\n",
      "282    -2.330807\n",
      "283    -7.635955\n",
      "284    -1.989465\n",
      "285    -2.616557\n",
      "286    10.148434\n",
      "287    -3.900663\n",
      "288    -2.112742\n",
      "289    10.322443\n",
      "290    -1.016299\n",
      "291    -0.370680\n",
      "292    -0.928316\n",
      "293     8.145964\n",
      "294    -1.237142\n",
      "295    10.208650\n",
      "296    -0.982967\n",
      "297    -7.277210\n",
      "298    -0.956778\n",
      "299    -2.269042\n",
      "Name: x, dtype: float64\n",
      "(0.31079323156768196, 6.929679825159005)\n"
     ]
    }
   ],
   "source": [
    "def train(df):\n",
    "    \"\"\"\n",
    "    \"\"\"\n",
    "    c_features = df.columns[:-1] \n",
    "    c_label = df.columns[-1]\n",
    "    \n",
    "    mean_and_std_mapper = dict()\n",
    "    for feature in c_features:\n",
    "        s = df[feature]\n",
    "        mean_and_std_mapper[feature] = (s.mean(), s.std())\n",
    "    \n",
    "    s = df[c_features[0]]\n",
    "    print(s)\n",
    "    print(norm.fit(s))\n",
    "    \n",
    "    \n",
    "train(two_blobs_data)"
   ]
  }
 ],
 "metadata": {
  "kernelspec": {
   "display_name": "Python 3",
   "language": "python",
   "name": "python3"
  },
  "language_info": {
   "codemirror_mode": {
    "name": "ipython",
    "version": 3
   },
   "file_extension": ".py",
   "mimetype": "text/x-python",
   "name": "python",
   "nbconvert_exporter": "python",
   "pygments_lexer": "ipython3",
   "version": "3.5.3"
  }
 },
 "nbformat": 4,
 "nbformat_minor": 2
}
