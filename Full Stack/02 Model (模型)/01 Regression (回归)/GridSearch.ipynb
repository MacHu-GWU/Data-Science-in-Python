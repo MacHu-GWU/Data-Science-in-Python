{
 "cells": [
  {
   "cell_type": "markdown",
   "metadata": {},
   "source": [
    "# 使用GridSearch进行参数调优\n",
    "\n",
    "首先定义下面几组变量:\n",
    "\n",
    "- 基础模型.\n",
    "- 模型参数字典, 每个超参所有取值的列表.\n",
    "- 实验参数.\n"
   ]
  },
  {
   "cell_type": "code",
   "execution_count": 46,
   "metadata": {},
   "outputs": [],
   "source": [
    "import numpy as np\n",
    "import pandas as pd\n",
    "import matplotlib.pyplot as plt\n",
    "from sklearn import datasets\n",
    "\n",
    "# 用iris花数据\n",
    "iris = datasets.load_iris()\n",
    "X = iris.data\n",
    "y = iris.target"
   ]
  },
  {
   "cell_type": "code",
   "execution_count": 47,
   "metadata": {},
   "outputs": [
    {
     "data": {
      "text/plain": [
       "GridSearchCV(cv=5, error_score='raise',\n",
       "       estimator=RandomForestClassifier(bootstrap=True, class_weight=None, criterion='gini',\n",
       "            max_depth=None, max_features='auto', max_leaf_nodes=None,\n",
       "            min_impurity_decrease=0.0, min_impurity_split=None,\n",
       "            min_samples_leaf=1, min_samples_split=2,\n",
       "            min_weight_fraction_leaf=0.0, n_estimators=10, n_jobs=1,\n",
       "            oob_score=False, random_state=None, verbose=0,\n",
       "            warm_start=False),\n",
       "       fit_params=None, iid=True, n_jobs=4,\n",
       "       param_grid={'n_estimators': [5, 10, 20, 50], 'max_features': [0.5, 0.8, 1.0], 'max_depth': [1, 2, 3, 4]},\n",
       "       pre_dispatch='2*n_jobs', refit=True, return_train_score='warn',\n",
       "       scoring='accuracy', verbose=0)"
      ]
     },
     "execution_count": 47,
     "metadata": {},
     "output_type": "execute_result"
    }
   ],
   "source": [
    "from sklearn.ensemble import RandomForestClassifier\n",
    "from sklearn.model_selection import GridSearchCV\n",
    "import multiprocessing\n",
    "\n",
    "# find cpu core number\n",
    "n_cpu = multiprocessing.cpu_count()\n",
    "\n",
    "# parameter matrix\n",
    "param_grid = dict(\n",
    "    max_depth=[1, 2, 3, 4],\n",
    "    max_features=[0.5, 0.8, 1.0],\n",
    "    n_estimators=[5, 10, 20, 50],\n",
    ")\n",
    "\n",
    "# base estimator\n",
    "estimator = RandomForestClassifier()\n",
    "\n",
    "# experiment setting\n",
    "gs = GridSearchCV(\n",
    "    estimator=estimator,\n",
    "    param_grid=param_grid,\n",
    "    scoring=\"accuracy\",\n",
    "    cv=5,\n",
    "    n_jobs=n_cpu,\n",
    ")\n",
    "\n",
    "gs.fit(X, y)\n"
   ]
  },
  {
   "cell_type": "code",
   "execution_count": 48,
   "metadata": {},
   "outputs": [
    {
     "data": {
      "text/html": [
       "<div>\n",
       "<style scoped>\n",
       "    .dataframe tbody tr th:only-of-type {\n",
       "        vertical-align: middle;\n",
       "    }\n",
       "\n",
       "    .dataframe tbody tr th {\n",
       "        vertical-align: top;\n",
       "    }\n",
       "\n",
       "    .dataframe thead th {\n",
       "        text-align: right;\n",
       "    }\n",
       "</style>\n",
       "<table border=\"1\" class=\"dataframe\">\n",
       "  <thead>\n",
       "    <tr style=\"text-align: right;\">\n",
       "      <th></th>\n",
       "      <th>mean_fit_time</th>\n",
       "      <th>mean_score_time</th>\n",
       "      <th>mean_test_score</th>\n",
       "      <th>mean_train_score</th>\n",
       "      <th>param_max_depth</th>\n",
       "      <th>param_max_features</th>\n",
       "      <th>param_n_estimators</th>\n",
       "      <th>params</th>\n",
       "      <th>rank_test_score</th>\n",
       "      <th>split0_test_score</th>\n",
       "      <th>...</th>\n",
       "      <th>split2_test_score</th>\n",
       "      <th>split2_train_score</th>\n",
       "      <th>split3_test_score</th>\n",
       "      <th>split3_train_score</th>\n",
       "      <th>split4_test_score</th>\n",
       "      <th>split4_train_score</th>\n",
       "      <th>std_fit_time</th>\n",
       "      <th>std_score_time</th>\n",
       "      <th>std_test_score</th>\n",
       "      <th>std_train_score</th>\n",
       "    </tr>\n",
       "  </thead>\n",
       "  <tbody>\n",
       "    <tr>\n",
       "      <th>24</th>\n",
       "      <td>0.016611</td>\n",
       "      <td>0.001705</td>\n",
       "      <td>0.966667</td>\n",
       "      <td>0.971667</td>\n",
       "      <td>3</td>\n",
       "      <td>0.5</td>\n",
       "      <td>5</td>\n",
       "      <td>{'max_features': 0.5, 'n_estimators': 5, 'max_...</td>\n",
       "      <td>1</td>\n",
       "      <td>0.966667</td>\n",
       "      <td>...</td>\n",
       "      <td>0.966667</td>\n",
       "      <td>0.975000</td>\n",
       "      <td>0.933333</td>\n",
       "      <td>0.975000</td>\n",
       "      <td>1.0</td>\n",
       "      <td>0.958333</td>\n",
       "      <td>0.001944</td>\n",
       "      <td>0.001040</td>\n",
       "      <td>0.021082</td>\n",
       "      <td>0.006667</td>\n",
       "    </tr>\n",
       "    <tr>\n",
       "      <th>37</th>\n",
       "      <td>0.023030</td>\n",
       "      <td>0.001683</td>\n",
       "      <td>0.966667</td>\n",
       "      <td>0.991667</td>\n",
       "      <td>4</td>\n",
       "      <td>0.5</td>\n",
       "      <td>10</td>\n",
       "      <td>{'max_features': 0.5, 'n_estimators': 10, 'max...</td>\n",
       "      <td>1</td>\n",
       "      <td>0.966667</td>\n",
       "      <td>...</td>\n",
       "      <td>0.933333</td>\n",
       "      <td>0.991667</td>\n",
       "      <td>0.966667</td>\n",
       "      <td>0.991667</td>\n",
       "      <td>1.0</td>\n",
       "      <td>0.983333</td>\n",
       "      <td>0.001076</td>\n",
       "      <td>0.000108</td>\n",
       "      <td>0.021082</td>\n",
       "      <td>0.005270</td>\n",
       "    </tr>\n",
       "    <tr>\n",
       "      <th>29</th>\n",
       "      <td>0.030062</td>\n",
       "      <td>0.002046</td>\n",
       "      <td>0.966667</td>\n",
       "      <td>0.966667</td>\n",
       "      <td>3</td>\n",
       "      <td>0.8</td>\n",
       "      <td>10</td>\n",
       "      <td>{'max_features': 0.8, 'n_estimators': 10, 'max...</td>\n",
       "      <td>1</td>\n",
       "      <td>0.966667</td>\n",
       "      <td>...</td>\n",
       "      <td>0.933333</td>\n",
       "      <td>0.975000</td>\n",
       "      <td>0.966667</td>\n",
       "      <td>0.966667</td>\n",
       "      <td>1.0</td>\n",
       "      <td>0.966667</td>\n",
       "      <td>0.002365</td>\n",
       "      <td>0.000401</td>\n",
       "      <td>0.021082</td>\n",
       "      <td>0.005270</td>\n",
       "    </tr>\n",
       "  </tbody>\n",
       "</table>\n",
       "<p>3 rows × 23 columns</p>\n",
       "</div>"
      ],
      "text/plain": [
       "    mean_fit_time  mean_score_time  mean_test_score  mean_train_score  \\\n",
       "24       0.016611         0.001705         0.966667          0.971667   \n",
       "37       0.023030         0.001683         0.966667          0.991667   \n",
       "29       0.030062         0.002046         0.966667          0.966667   \n",
       "\n",
       "   param_max_depth param_max_features param_n_estimators  \\\n",
       "24               3                0.5                  5   \n",
       "37               4                0.5                 10   \n",
       "29               3                0.8                 10   \n",
       "\n",
       "                                               params  rank_test_score  \\\n",
       "24  {'max_features': 0.5, 'n_estimators': 5, 'max_...                1   \n",
       "37  {'max_features': 0.5, 'n_estimators': 10, 'max...                1   \n",
       "29  {'max_features': 0.8, 'n_estimators': 10, 'max...                1   \n",
       "\n",
       "    split0_test_score       ...         split2_test_score  split2_train_score  \\\n",
       "24           0.966667       ...                  0.966667            0.975000   \n",
       "37           0.966667       ...                  0.933333            0.991667   \n",
       "29           0.966667       ...                  0.933333            0.975000   \n",
       "\n",
       "    split3_test_score  split3_train_score  split4_test_score  \\\n",
       "24           0.933333            0.975000                1.0   \n",
       "37           0.966667            0.991667                1.0   \n",
       "29           0.966667            0.966667                1.0   \n",
       "\n",
       "    split4_train_score  std_fit_time  std_score_time  std_test_score  \\\n",
       "24            0.958333      0.001944        0.001040        0.021082   \n",
       "37            0.983333      0.001076        0.000108        0.021082   \n",
       "29            0.966667      0.002365        0.000401        0.021082   \n",
       "\n",
       "    std_train_score  \n",
       "24         0.006667  \n",
       "37         0.005270  \n",
       "29         0.005270  \n",
       "\n",
       "[3 rows x 23 columns]"
      ]
     },
     "execution_count": 48,
     "metadata": {},
     "output_type": "execute_result"
    }
   ],
   "source": [
    "\"\"\"\n",
    "``GridSearchCV.cv_results_`` 是一个字典结构, 里面测试了所有可能的参数组合. \n",
    "\"\"\"\n",
    "\n",
    "assert len(gs.cv_results_[\"params\"]) == \\\n",
    "    len(param_grid[\"max_depth\"]) * len(param_grid[\"max_features\"]) * len(param_grid[\"n_estimators\"])\n",
    "\n",
    "from collections import OrderedDict\n",
    "\n",
    "# order by mean_test_score\n",
    "df = pd.DataFrame(OrderedDict(sorted(gs.cv_results_.items(), key=lambda x: x[0])))\n",
    "df = df.sort_values(\"mean_test_score\", ascending=False)\n",
    "df.head(3)"
   ]
  },
  {
   "cell_type": "code",
   "execution_count": 49,
   "metadata": {},
   "outputs": [
    {
     "data": {
      "text/plain": [
       "{'max_depth': 3, 'max_features': 0.5, 'n_estimators': 5}"
      ]
     },
     "execution_count": 49,
     "metadata": {},
     "output_type": "execute_result"
    }
   ],
   "source": [
    "# best mean_test_score parameter\n",
    "df.head(1)[\"params\"].values[0]"
   ]
  },
  {
   "cell_type": "code",
   "execution_count": 50,
   "metadata": {},
   "outputs": [
    {
     "data": {
      "text/plain": [
       "{'max_depth': 2, 'max_features': 0.5, 'n_estimators': 5}"
      ]
     },
     "execution_count": 50,
     "metadata": {},
     "output_type": "execute_result"
    }
   ],
   "source": [
    "gs.best_params_"
   ]
  },
  {
   "cell_type": "code",
   "execution_count": 51,
   "metadata": {},
   "outputs": [
    {
     "data": {
      "text/plain": [
       "0.9666666666666667"
      ]
     },
     "execution_count": 51,
     "metadata": {},
     "output_type": "execute_result"
    }
   ],
   "source": [
    "gs.best_score_"
   ]
  }
 ],
 "metadata": {
  "kernelspec": {
   "display_name": "Python 3",
   "language": "python",
   "name": "python3"
  },
  "language_info": {
   "codemirror_mode": {
    "name": "ipython",
    "version": 3
   },
   "file_extension": ".py",
   "mimetype": "text/x-python",
   "name": "python",
   "nbconvert_exporter": "python",
   "pygments_lexer": "ipython3",
   "version": "3.5.3"
  }
 },
 "nbformat": 4,
 "nbformat_minor": 2
}
