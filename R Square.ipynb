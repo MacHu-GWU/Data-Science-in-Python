{
 "cells": [
  {
   "cell_type": "markdown",
   "metadata": {},
   "source": [
    "# R Square的定义\n",
    "\n",
    "R Square(又叫R2)是一个用于衡量一个回归模型用于预测将来的可靠性 (It provides a measure of how well future samples are likely to be predicted by the model). 这个值跟MSE Error的区别是:\n",
    "\n",
    "R2计算的是 1 减去 ``真值和预测值之间的差异`` 占 ``真值差异的比例`` (分子就是MSE). 如果是1说明完美, 越小说明越差.\n",
    "\n",
    "\n",
    "\n",
    "Reference:\n",
    "\n",
    "- R2 Wiki: https://en.wikipedia.org/wiki/Coefficient_of_determination\n",
    "- R2 in [sklearn](http://scikit-learn.org/): http://scikit-learn.org/stable/modules/model_evaluation.html#r2-score-the-coefficient-of-determination\n",
    "- [小象学院视频, 6分钟开始](https://www.youtube.com/watch?v=yMsnsQ2ZTSQ&index=8&list=PLMRbXzyA0qdWsZXemrdKnqgrPtPFVfA-z)"
   ]
  },
  {
   "cell_type": "code",
   "execution_count": 23,
   "metadata": {},
   "outputs": [],
   "source": [
    "import numpy as np\n",
    "from sklearn.metrics import r2_score\n",
    "\n",
    "y_true = [3, -0.5, 2, 7]\n",
    "y_pred = [2.5, 0.0, 2, 8]\n",
    "\n",
    "score = r2_score(y_true, y_pred)\n",
    "\n",
    "def cal_r2_score(y_true, y_pred):\n",
    "    y_true = np.array(y_true)\n",
    "    y_pred = np.array(y_pred)\n",
    "    y_true_mean = y_true.mean()\n",
    "    y_pred_mean = y_pred.mean()\n",
    "    score = 1 - ((y_true - y_pred) ** 2).sum() / ((y_true - y_true_mean) ** 2).sum()\n",
    "    return score\n",
    "    \n",
    "assert score == cal_r2_score(y_true, y_pred)"
   ]
  }
 ],
 "metadata": {
  "kernelspec": {
   "display_name": "Python 3",
   "language": "python",
   "name": "python3"
  },
  "language_info": {
   "codemirror_mode": {
    "name": "ipython",
    "version": 3
   },
   "file_extension": ".py",
   "mimetype": "text/x-python",
   "name": "python",
   "nbconvert_exporter": "python",
   "pygments_lexer": "ipython3",
   "version": "3.5.3"
  }
 },
 "nbformat": 4,
 "nbformat_minor": 2
}
