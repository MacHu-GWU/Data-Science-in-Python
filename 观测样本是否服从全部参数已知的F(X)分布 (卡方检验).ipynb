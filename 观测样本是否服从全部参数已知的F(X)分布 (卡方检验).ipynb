{
 "cells": [
  {
   "cell_type": "markdown",
   "metadata": {},
   "source": [
    "参考资料: 概率论与数理统计 浙大第四版, 8.6 (一)\n",
    "\n",
    "**问题**:\n",
    "\n",
    "F(X)分布的概略密度为:\n",
    "\n",
    "```\n",
    "X1\tX2\t...\tXk\n",
    "p1\tp2\t...\tpk\n",
    "```\n",
    "\n",
    "假设我们有一组观测数据:\n",
    "\n",
    "```\n",
    "X1\tX2\t...\tXk\n",
    "f1\tf2\t...\tfk\n",
    "\n",
    "f1 + f2 + ... + fk = n\n",
    "```\n",
    "\n",
    "问观测数据的分布函数是否是F(X):\n",
    "\n",
    "- H0: X的分布是F(X)\n",
    "- H1: X的分布不是F(X)"
   ]
  },
  {
   "cell_type": "markdown",
   "metadata": {},
   "source": [
    "**解法1, 边界值解法**:\n",
    "\n",
    "如果H0是真的, 并且试验次数n很多时, ``fi/n = pi'`` 和真值 ``pi`` 的差异应该不会太大.\n",
    "\n",
    "因此 ``(fi/n - pi) ** 2`` 不应该太大. 构建统计量:\n",
    "\n",
    "``Y = sigma1~k ( n/pi * (fi/n - pi) ** 2 ) = sigma1~k (fi ** 2 / (n * pi)) - n``\n",
    "\n",
    "皮尔逊证明了, **当n充分大时(n>=50)时, Y近似服从 chi(k-1) 分布**.\n",
    "\n",
    "根据以上讨论, Y不应该过大, 当Y过大时我们就拒绝H0. 拒绝域的形式为 Y >= G (G为正常数)\n",
    "\n",
    "P(Y >= G) = alpha, 如果我们指定alpha为0.05, 那么我们根据Y的分布可以查表得到G. 所以如果计算出来的Y比G大.\n",
    "\n",
    "如果H0为真, 说明Y比G大的概率只有0.05. 按理来说不应该发生. 说明不该发生的事发生了, 那只可能是我们假设的前提有问题. **所以在Y >= G的时候我们拒绝H0**.\n",
    "\n",
    "该解法的使用条件:\n",
    "\n",
    "- n >= 50\n",
    "- n * pi >= 5, 否则应该适当合并Xi. (注意, 这不是pi是所假设的分布的pi, 不是用fi/n计算出来的pi')\n",
    "\n",
    "**解法2, P值解法**:\n",
    "\n",
    "根据以上的分析, 我们计算出Y统计量的值, 并带入卡方分布的概率密度函数, 得到P(Y <= Y计算值)的概率, 然后用1减去它得到P(Y >= Y计算值)的概率p. \n",
    "\n",
    "按理来说, 如果我们假设成立, 我们这件事发生的概率是p, 如果这个p太小, 说明这件事发生的概率不大, 可他偏偏就发生了! **所以当p < alpha时, 我们拒绝H0**."
   ]
  },
  {
   "cell_type": "markdown",
   "metadata": {},
   "source": [
    "**例题**: 假设我们有一个6面的骰子, ``[1, 2, 3, 4, 5, 6]`` 出现的次数分别为 ``[6, 14, 15, 14, 5, 6]``, 问骰子是否是均匀的."
   ]
  },
  {
   "cell_type": "code",
   "execution_count": 2,
   "metadata": {},
   "outputs": [],
   "source": [
    "# 解法1, 边界值解法\n",
    "\n",
    "import numpy as np\n",
    "from scipy import stats\n",
    "\n",
    "f = [6, 14, 15, 14, 5, 6] # 都大于5\n",
    "n = sum(f) # 60, 大于50\n",
    "\n",
    "assert n >= 50\n",
    "assert n * 1/6 >= 5\n",
    "\n",
    "def find_Y(f, exp):\n",
    "    \"\"\"\n",
    "    \n",
    "    :param f: 频率次列表 \n",
    "    :param exp: F的概率表\n",
    "    :return: 统计量Y的值\n",
    "    \"\"\"\n",
    "    n = sum(f)\n",
    "    return sum( (np.array(f) ** 2) / (n * np.array(exp))) - n\n",
    "    \n",
    "Y = find_Y(f, [1/6,] * 6) # 11.4\n",
    "assert abs(stats.chi2.cdf(11.07, 5) - 0.95) <= 0.0001 # chi_5(11.07) = 0.95\n",
    "\n",
    "# 因为11.4 > 11.07, 所以我们拒绝H0, 认为骰子不均匀"
   ]
  },
  {
   "cell_type": "code",
   "execution_count": 15,
   "metadata": {},
   "outputs": [],
   "source": [
    "# 解法2, P值解法\n",
    "\n",
    "p = 1 - stats.chi2.cdf(11.4, 5) # 0.044, = stats.chisquare(f, np.array([1/6,]*6) * n).pvalue\n",
    "\n",
    "# 因为p < 0.05, 所以我们拒绝H0, 认为骰子不均匀"
   ]
  }
 ],
 "metadata": {
  "kernelspec": {
   "display_name": "Python 3",
   "language": "python",
   "name": "python3"
  },
  "language_info": {
   "codemirror_mode": {
    "name": "ipython",
    "version": 3
   },
   "file_extension": ".py",
   "mimetype": "text/x-python",
   "name": "python",
   "nbconvert_exporter": "python",
   "pygments_lexer": "ipython3",
   "version": "3.5.3"
  }
 },
 "nbformat": 4,
 "nbformat_minor": 2
}
